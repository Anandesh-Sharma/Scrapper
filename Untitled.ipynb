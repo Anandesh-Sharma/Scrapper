{
 "cells": [
  {
   "cell_type": "code",
   "execution_count": 6,
   "metadata": {},
   "outputs": [],
   "source": [
    "\n",
    "import matplotlib.image as mpimg\n",
    "import matplotlib.pyplot as plt\n",
    "import minecart\n",
    "from PIL import Image\n",
    "def extract_images(file, d):\n",
    "    j = 0\n",
    "    adhar_front = ''\n",
    "    adhar_back = ''\n",
    "    pan = ''\n",
    "    selfie = ''\n",
    "    pdffile = open(file, 'rb')\n",
    "    doc = minecart.Document(pdffile)\n",
    "    global k\n",
    "    if (d > 19):\n",
    "        for i in range(d - 2, d):\n",
    "            page = doc.get_page(i)\n",
    "            if (j == 0 and i == 18):\n",
    "                adhar_front = page.images[0].as_pil()\n",
    "                j += 1\n",
    "            if (j == 1 and i == 18):\n",
    "                adhar_back = page.images[1].as_pil()\n",
    "                j += 1\n",
    "            if (j == 2 and i == 19):\n",
    "                pan = page.images[0].as_pil()\n",
    "                j = j + 1\n",
    "            if (j == 3 and i == 19):\n",
    "                selfie = page.images[1].as_pil()\n",
    "                j += 1\n",
    "    else:\n",
    "        page = doc.get_page(d - 1)\n",
    "        if (j == 0):\n",
    "            pan = page.images[0].as_pil()\n",
    "            j += 1\n",
    "        if (j == 1):\n",
    "            selfie = page.images[1].as_pil()\n",
    "            j += 1\n",
    "    return adhar_front, adhar_back, pan, selfie\n",
    "\n",
    "af, ab, pan, selfie = extract_images('data/20181001020046DID180827210842248MA86RDYSYFW7WR_esign.pdf', 20)\n",
    "\n",
    "selfie.show()"
   ]
  },
  {
   "cell_type": "code",
   "execution_count": 4,
   "metadata": {},
   "outputs": [],
   "source": []
  }
 ],
 "metadata": {
  "kernelspec": {
   "display_name": "Python 3",
   "language": "python",
   "name": "python3"
  },
  "language_info": {
   "codemirror_mode": {
    "name": "ipython",
    "version": 3
   },
   "file_extension": ".py",
   "mimetype": "text/x-python",
   "name": "python",
   "nbconvert_exporter": "python",
   "pygments_lexer": "ipython3",
   "version": "3.7.3"
  }
 },
 "nbformat": 4,
 "nbformat_minor": 2
}
